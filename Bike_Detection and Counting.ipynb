{
 "cells": [
  {
   "cell_type": "code",
   "execution_count": null,
   "id": "d17c0396",
   "metadata": {},
   "outputs": [],
   "source": [
    "import cv2\n",
    "\n",
    "bikes_classifier=cv2.CascadeClassifier('two_wheeler.xml')\n",
    "\n",
    "camera=cv2.VideoCapture('bikes.mp4')\n",
    "\n",
    "count=0\n",
    "\n",
    "while(True):\n",
    "    ret,img=camera.read()\n",
    "    height,width=img.shape[0:2]\n",
    "    img[0:70,0:width],[0,0,255]\n",
    "    cv2.putText(img,'MOTO BIKES COUNT:',(10,50),cv2.FONT_HERSHEY_SIMPLEX,1.5,(255,255))\n",
    "    cv2.line(img,(0,height-200),(width,height-200),(0,255,255),2)\n",
    "    blur=cv2.blur(img,(3,3))\n",
    "    gray=cv2.cvtColor(blur,cv2.Color_BGR2GRAY)\n",
    "    bikes=bikes_classifier.detectMultiScale(gray)\n",
    "    for (x,y,w,h) in bikes:\n",
    "        bikesCy=int(y+h/2)\n",
    "        linCy=height-200\n",
    "        if(bikesCy<linCy+6 and bikeCy>linCy-6):\n",
    "            count=count+1\n",
    "            cv2.line(img,(0,height-200),(width,height-200),(0,0,255),5)\n",
    "            \n",
    "        cv2.rectangle(img,(x,y),(x+w,y+h),(0,255,0),2)\n",
    "        cv2.putText(img,'MOTO BIKES COUNT:',(10,50),cv2.FONT_HERSHEY_SIMPLEX,0.5,(0,255,0),2)\n",
    "        cv2.putText(img,str(count),(500,50),cv2.FONT_HERSHEY_SIMPLEX,1.5,(255,255,0),2)\n",
    "        \n",
    "    cv2.imshow('LIVE',img)\n",
    "    key=cv2.waitKey(1)\n",
    "    \n",
    "    if key==27:\n",
    "        break\n",
    "cv2.destroyAllWindows()\n",
    "camera.release()"
   ]
  },
  {
   "cell_type": "code",
   "execution_count": null,
   "id": "f2ea53c8",
   "metadata": {},
   "outputs": [],
   "source": []
  }
 ],
 "metadata": {
  "kernelspec": {
   "display_name": "Python 3 (ipykernel)",
   "language": "python",
   "name": "python3"
  },
  "language_info": {
   "codemirror_mode": {
    "name": "ipython",
    "version": 3
   },
   "file_extension": ".py",
   "mimetype": "text/x-python",
   "name": "python",
   "nbconvert_exporter": "python",
   "pygments_lexer": "ipython3",
   "version": "3.10.9"
  }
 },
 "nbformat": 4,
 "nbformat_minor": 5
}
